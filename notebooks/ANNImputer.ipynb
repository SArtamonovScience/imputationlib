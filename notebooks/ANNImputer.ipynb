{
 "cells": [
  {
   "cell_type": "markdown",
   "id": "d1c0d639",
   "metadata": {},
   "source": [
    "## ANN Imputer"
   ]
  },
  {
   "cell_type": "code",
   "execution_count": 280,
   "id": "e9efba0a",
   "metadata": {},
   "outputs": [],
   "source": [
    "import numpy as np\n",
    "import pandas as pd\n",
    "import hnswlib\n",
    "import faiss\n",
    "\n",
    "from sklearn.neighbors import NearestNeighbors\n",
    "from sklearn.datasets import load_iris\n",
    "\n",
    "from os import EX_OSFILE"
   ]
  },
  {
   "cell_type": "markdown",
   "id": "b4aa1f08",
   "metadata": {},
   "source": [
    "### Подготовка датасета"
   ]
  },
  {
   "cell_type": "code",
   "execution_count": 281,
   "id": "5d74e7c4",
   "metadata": {},
   "outputs": [],
   "source": [
    "iris = load_iris()\n",
    "iris_data = iris.data\n",
    "iris_feature_names = iris.feature_names\n",
    "df_iris = pd.DataFrame(iris_data, columns=iris_feature_names)"
   ]
  },
  {
   "cell_type": "code",
   "execution_count": 282,
   "id": "1079a0ea",
   "metadata": {},
   "outputs": [
    {
     "data": {
      "text/html": [
       "<div>\n",
       "<style scoped>\n",
       "    .dataframe tbody tr th:only-of-type {\n",
       "        vertical-align: middle;\n",
       "    }\n",
       "\n",
       "    .dataframe tbody tr th {\n",
       "        vertical-align: top;\n",
       "    }\n",
       "\n",
       "    .dataframe thead th {\n",
       "        text-align: right;\n",
       "    }\n",
       "</style>\n",
       "<table border=\"1\" class=\"dataframe\">\n",
       "  <thead>\n",
       "    <tr style=\"text-align: right;\">\n",
       "      <th></th>\n",
       "      <th>sepal length (cm)</th>\n",
       "      <th>sepal width (cm)</th>\n",
       "      <th>petal length (cm)</th>\n",
       "      <th>petal width (cm)</th>\n",
       "    </tr>\n",
       "  </thead>\n",
       "  <tbody>\n",
       "    <tr>\n",
       "      <th>0</th>\n",
       "      <td>5.1</td>\n",
       "      <td>3.5</td>\n",
       "      <td>1.4</td>\n",
       "      <td>0.2</td>\n",
       "    </tr>\n",
       "    <tr>\n",
       "      <th>1</th>\n",
       "      <td>4.9</td>\n",
       "      <td>3.0</td>\n",
       "      <td>1.4</td>\n",
       "      <td>0.2</td>\n",
       "    </tr>\n",
       "    <tr>\n",
       "      <th>2</th>\n",
       "      <td>4.7</td>\n",
       "      <td>3.2</td>\n",
       "      <td>1.3</td>\n",
       "      <td>0.2</td>\n",
       "    </tr>\n",
       "    <tr>\n",
       "      <th>3</th>\n",
       "      <td>4.6</td>\n",
       "      <td>3.1</td>\n",
       "      <td>1.5</td>\n",
       "      <td>0.2</td>\n",
       "    </tr>\n",
       "    <tr>\n",
       "      <th>4</th>\n",
       "      <td>5.0</td>\n",
       "      <td>3.6</td>\n",
       "      <td>1.4</td>\n",
       "      <td>0.2</td>\n",
       "    </tr>\n",
       "    <tr>\n",
       "      <th>...</th>\n",
       "      <td>...</td>\n",
       "      <td>...</td>\n",
       "      <td>...</td>\n",
       "      <td>...</td>\n",
       "    </tr>\n",
       "    <tr>\n",
       "      <th>145</th>\n",
       "      <td>6.7</td>\n",
       "      <td>3.0</td>\n",
       "      <td>5.2</td>\n",
       "      <td>2.3</td>\n",
       "    </tr>\n",
       "    <tr>\n",
       "      <th>146</th>\n",
       "      <td>6.3</td>\n",
       "      <td>2.5</td>\n",
       "      <td>5.0</td>\n",
       "      <td>1.9</td>\n",
       "    </tr>\n",
       "    <tr>\n",
       "      <th>147</th>\n",
       "      <td>6.5</td>\n",
       "      <td>3.0</td>\n",
       "      <td>5.2</td>\n",
       "      <td>2.0</td>\n",
       "    </tr>\n",
       "    <tr>\n",
       "      <th>148</th>\n",
       "      <td>6.2</td>\n",
       "      <td>3.4</td>\n",
       "      <td>5.4</td>\n",
       "      <td>2.3</td>\n",
       "    </tr>\n",
       "    <tr>\n",
       "      <th>149</th>\n",
       "      <td>5.9</td>\n",
       "      <td>3.0</td>\n",
       "      <td>5.1</td>\n",
       "      <td>1.8</td>\n",
       "    </tr>\n",
       "  </tbody>\n",
       "</table>\n",
       "<p>150 rows × 4 columns</p>\n",
       "</div>"
      ],
      "text/plain": [
       "     sepal length (cm)  sepal width (cm)  petal length (cm)  petal width (cm)\n",
       "0                  5.1               3.5                1.4               0.2\n",
       "1                  4.9               3.0                1.4               0.2\n",
       "2                  4.7               3.2                1.3               0.2\n",
       "3                  4.6               3.1                1.5               0.2\n",
       "4                  5.0               3.6                1.4               0.2\n",
       "..                 ...               ...                ...               ...\n",
       "145                6.7               3.0                5.2               2.3\n",
       "146                6.3               2.5                5.0               1.9\n",
       "147                6.5               3.0                5.2               2.0\n",
       "148                6.2               3.4                5.4               2.3\n",
       "149                5.9               3.0                5.1               1.8\n",
       "\n",
       "[150 rows x 4 columns]"
      ]
     },
     "execution_count": 282,
     "metadata": {},
     "output_type": "execute_result"
    }
   ],
   "source": [
    "df_iris"
   ]
  },
  {
   "cell_type": "markdown",
   "id": "6bd1fc7b",
   "metadata": {},
   "source": [
    "5% значений будут заменены на NaN"
   ]
  },
  {
   "cell_type": "code",
   "execution_count": 283,
   "id": "8c903f1f",
   "metadata": {},
   "outputs": [],
   "source": [
    "nan_percent = 0.05"
   ]
  },
  {
   "cell_type": "markdown",
   "id": "fb1233ae",
   "metadata": {},
   "source": [
    "Всего элементов в датасете и сколько хотим заменить:"
   ]
  },
  {
   "cell_type": "code",
   "execution_count": 284,
   "id": "874c90b5",
   "metadata": {},
   "outputs": [
    {
     "name": "stdout",
     "output_type": "stream",
     "text": [
      "600\n",
      "30\n"
     ]
    }
   ],
   "source": [
    "total_values = np.prod(df_iris.shape)\n",
    "nan_count = int(total_values * nan_percent)\n",
    "\n",
    "print(total_values)\n",
    "print(nan_count)"
   ]
  },
  {
   "cell_type": "markdown",
   "id": "3808bc58",
   "metadata": {},
   "source": [
    "Случайные индексы для пропусков"
   ]
  },
  {
   "cell_type": "code",
   "execution_count": 285,
   "id": "e4c0f4a8",
   "metadata": {},
   "outputs": [],
   "source": [
    "rand_row_idx = np.random.randint(0, df_iris.shape[0], size=nan_count)\n",
    "rand_col_idx = np.random.randint(0, df_iris.shape[1], size=nan_count)"
   ]
  },
  {
   "cell_type": "markdown",
   "id": "8eb86691",
   "metadata": {},
   "source": [
    "Вставляем np.nan в случайно выбранные позиции"
   ]
  },
  {
   "cell_type": "code",
   "execution_count": 286,
   "id": "f14dc81c",
   "metadata": {},
   "outputs": [],
   "source": [
    "for row, col in zip(rand_row_idx, rand_col_idx):\n",
    "    df_iris.iat[row, col] = np.nan"
   ]
  },
  {
   "cell_type": "code",
   "execution_count": 287,
   "id": "ca6b3663",
   "metadata": {},
   "outputs": [
    {
     "name": "stdout",
     "output_type": "stream",
     "text": [
      "sepal length (cm)     8\n",
      "sepal width (cm)      4\n",
      "petal length (cm)     7\n",
      "petal width (cm)     10\n",
      "dtype: int64\n"
     ]
    }
   ],
   "source": [
    "print(df_iris.isna().sum())"
   ]
  },
  {
   "cell_type": "markdown",
   "id": "b494a133",
   "metadata": {},
   "source": [
    "### HNSW Imputer"
   ]
  },
  {
   "cell_type": "code",
   "execution_count": 288,
   "id": "1acdc604",
   "metadata": {},
   "outputs": [],
   "source": [
    "def build_hnsw(build_data, space='l2', M=32, ef_construction=32, ef = 32):\n",
    "    space = space\n",
    "    M = M\n",
    "    dim = build_data.shape[-1]\n",
    "    ef_construction = ef\n",
    "    index = hnswlib.Index(space=space, dim=dim)\n",
    "    index.init_index(max_elements=build_data.shape[0], ef_construction=ef_construction, M=M)\n",
    "    index.add_items(np.float32(build_data), np.arange(build_data.shape[0]))\n",
    "    return index\n",
    "\n",
    "def search_hnsw(index, query_data, k, efSearch=10):\n",
    "    index.set_ef(efSearch)\n",
    "    labels, distances = index.knn_query(np.float32(query_data), k=k)\n",
    "    return distances, labels\n",
    "\n",
    "class HNSWSearcher(object):\n",
    "    def __init__(self, space='l2', M=32, ef_construction=32, ef = 32):\n",
    "        self.index = None\n",
    "        self.dim = None\n",
    "        self.space = space\n",
    "        self.M = M\n",
    "        self.ef_construction = ef_construction\n",
    "        self.ef = ef\n",
    "\n",
    "    def fit(self, X):\n",
    "        self.index = build_hnsw(X, space=self.space, M=self.M, ef_construction=self.ef_construction, ef = self.ef)\n",
    "        return self\n",
    "\n",
    "    def kneighbors(self, X, k, efSearch=10):\n",
    "        if self.index is None:\n",
    "            raise ValueError(\"Unfitted\")\n",
    "        \n",
    "        distances, labels = search_hnsw(self.index, X, k, efSearch)\n",
    "        return distances, labels"
   ]
  },
  {
   "cell_type": "code",
   "execution_count": 289,
   "id": "65072ff7",
   "metadata": {},
   "outputs": [],
   "source": [
    "class HNSWImputer:\n",
    "    def __init__(self, n_neighbors=5):\n",
    "        self.n_neighbors = n_neighbors\n",
    "\n",
    "    def fit(self, X):\n",
    "        self.nn_model_ = HNSWSearcher()\n",
    "        self.nn_model_.fit(X)\n",
    "\n",
    "    def impute(self, X):\n",
    "        missing_mask = np.isnan(X)\n",
    "        if not np.any(missing_mask):\n",
    "            return X\n",
    "\n",
    "        # Find indices of missing values\n",
    "        missing_indices = np.where(missing_mask)\n",
    "\n",
    "        # Replace missing values with 0 for the purpose of finding nearest neighbors\n",
    "        X_zeroed = X.fillna(0)\n",
    "\n",
    "        # Find nearest neighbors for each missing value\n",
    "        distances, indices = self.nn_model_.kneighbors(X_zeroed, k = self.n_neighbors)\n",
    "\n",
    "        # Impute missing values with mean of nearest neighbors\n",
    "        ## Тут проблема в том, что X имеет 150 строчек и 4 столбца. Здесь некорректно применять данный метод\n",
    "        # imputed_values = np.mean(np.take_along_axis(X, indices, axis=0), axis=1)\n",
    "        \n",
    "        for row, col in zip(missing_indices[0], missing_indices[1]):\n",
    "            mean_value = X_zeroed.iloc[indices[row], col].mean()\n",
    "            X_zeroed.at[row, X_zeroed.columns[col]] = mean_value\n",
    "\n",
    "        return X_zeroed"
   ]
  },
  {
   "cell_type": "markdown",
   "id": "2c5acc6b",
   "metadata": {},
   "source": [
    "### Обучение HNSWImputer и получение ближайших соседей"
   ]
  },
  {
   "cell_type": "code",
   "execution_count": 290,
   "id": "1f870b84",
   "metadata": {},
   "outputs": [],
   "source": [
    "hnsw_imputer = HNSWImputer(n_neighbors=5)"
   ]
  },
  {
   "cell_type": "code",
   "execution_count": 291,
   "id": "ad51c8fe",
   "metadata": {},
   "outputs": [],
   "source": [
    "hnsw_imputer.fit(df_iris)"
   ]
  },
  {
   "cell_type": "code",
   "execution_count": 292,
   "id": "104de572",
   "metadata": {},
   "outputs": [
    {
     "data": {
      "text/html": [
       "<div>\n",
       "<style scoped>\n",
       "    .dataframe tbody tr th:only-of-type {\n",
       "        vertical-align: middle;\n",
       "    }\n",
       "\n",
       "    .dataframe tbody tr th {\n",
       "        vertical-align: top;\n",
       "    }\n",
       "\n",
       "    .dataframe thead th {\n",
       "        text-align: right;\n",
       "    }\n",
       "</style>\n",
       "<table border=\"1\" class=\"dataframe\">\n",
       "  <thead>\n",
       "    <tr style=\"text-align: right;\">\n",
       "      <th></th>\n",
       "      <th>sepal length (cm)</th>\n",
       "      <th>sepal width (cm)</th>\n",
       "      <th>petal length (cm)</th>\n",
       "      <th>petal width (cm)</th>\n",
       "    </tr>\n",
       "  </thead>\n",
       "  <tbody>\n",
       "    <tr>\n",
       "      <th>0</th>\n",
       "      <td>5.1</td>\n",
       "      <td>3.5</td>\n",
       "      <td>1.4</td>\n",
       "      <td>0.20</td>\n",
       "    </tr>\n",
       "    <tr>\n",
       "      <th>1</th>\n",
       "      <td>4.9</td>\n",
       "      <td>3.0</td>\n",
       "      <td>1.4</td>\n",
       "      <td>0.20</td>\n",
       "    </tr>\n",
       "    <tr>\n",
       "      <th>2</th>\n",
       "      <td>4.7</td>\n",
       "      <td>3.2</td>\n",
       "      <td>1.3</td>\n",
       "      <td>0.20</td>\n",
       "    </tr>\n",
       "    <tr>\n",
       "      <th>3</th>\n",
       "      <td>4.6</td>\n",
       "      <td>3.1</td>\n",
       "      <td>1.5</td>\n",
       "      <td>0.20</td>\n",
       "    </tr>\n",
       "    <tr>\n",
       "      <th>4</th>\n",
       "      <td>5.0</td>\n",
       "      <td>3.6</td>\n",
       "      <td>1.4</td>\n",
       "      <td>0.12</td>\n",
       "    </tr>\n",
       "    <tr>\n",
       "      <th>...</th>\n",
       "      <td>...</td>\n",
       "      <td>...</td>\n",
       "      <td>...</td>\n",
       "      <td>...</td>\n",
       "    </tr>\n",
       "    <tr>\n",
       "      <th>145</th>\n",
       "      <td>6.7</td>\n",
       "      <td>3.0</td>\n",
       "      <td>5.2</td>\n",
       "      <td>2.30</td>\n",
       "    </tr>\n",
       "    <tr>\n",
       "      <th>146</th>\n",
       "      <td>6.3</td>\n",
       "      <td>2.5</td>\n",
       "      <td>5.0</td>\n",
       "      <td>1.90</td>\n",
       "    </tr>\n",
       "    <tr>\n",
       "      <th>147</th>\n",
       "      <td>6.5</td>\n",
       "      <td>3.0</td>\n",
       "      <td>5.2</td>\n",
       "      <td>2.00</td>\n",
       "    </tr>\n",
       "    <tr>\n",
       "      <th>148</th>\n",
       "      <td>6.2</td>\n",
       "      <td>3.4</td>\n",
       "      <td>5.4</td>\n",
       "      <td>2.30</td>\n",
       "    </tr>\n",
       "    <tr>\n",
       "      <th>149</th>\n",
       "      <td>5.9</td>\n",
       "      <td>3.0</td>\n",
       "      <td>5.1</td>\n",
       "      <td>1.80</td>\n",
       "    </tr>\n",
       "  </tbody>\n",
       "</table>\n",
       "<p>150 rows × 4 columns</p>\n",
       "</div>"
      ],
      "text/plain": [
       "     sepal length (cm)  sepal width (cm)  petal length (cm)  petal width (cm)\n",
       "0                  5.1               3.5                1.4              0.20\n",
       "1                  4.9               3.0                1.4              0.20\n",
       "2                  4.7               3.2                1.3              0.20\n",
       "3                  4.6               3.1                1.5              0.20\n",
       "4                  5.0               3.6                1.4              0.12\n",
       "..                 ...               ...                ...               ...\n",
       "145                6.7               3.0                5.2              2.30\n",
       "146                6.3               2.5                5.0              1.90\n",
       "147                6.5               3.0                5.2              2.00\n",
       "148                6.2               3.4                5.4              2.30\n",
       "149                5.9               3.0                5.1              1.80\n",
       "\n",
       "[150 rows x 4 columns]"
      ]
     },
     "execution_count": 292,
     "metadata": {},
     "output_type": "execute_result"
    }
   ],
   "source": [
    "hnsw_imputer.impute(df_iris)"
   ]
  },
  {
   "cell_type": "markdown",
   "id": "2b392ea4",
   "metadata": {},
   "source": [
    "### FAISS Imputer"
   ]
  },
  {
   "cell_type": "code",
   "execution_count": 297,
   "id": "e7106ff8",
   "metadata": {},
   "outputs": [],
   "source": [
    "def build_IVFPQ(build_data, coarse_index, nlist, m, nbits, metric, num_threads=1):\n",
    "    dim = build_data.shape[1]\n",
    "    faiss.omp_set_num_threads(num_threads)\n",
    "    \n",
    "    index = faiss.IndexIVFPQ(\n",
    "        coarse_index,\n",
    "        dim,\n",
    "        nlist,\n",
    "        m,\n",
    "        nbits,\n",
    "        metric\n",
    "    )\n",
    "    index.train(build_data)\n",
    "    index.add(build_data)\n",
    "    return index\n",
    "\n",
    "def build_IVFFlat(build_data, coarse_index, nbits, metric, num_threads=1):\n",
    "    dim = build_data.shape[1]\n",
    "    faiss.omp_set_num_threads(num_threads)\n",
    "    \n",
    "    index = faiss.IndexIVFFlat(\n",
    "        coarse_index,\n",
    "        dim,\n",
    "        nlist,\n",
    "        metric\n",
    "    )\n",
    "    index.train(build_data)\n",
    "    index.add(build_data)\n",
    "    return index\n",
    "\n",
    "def build_flat_l2(build_data , **fixed_params):\n",
    "    dim = build_data.shape[1]\n",
    "    index = faiss.IndexFlatL2(dim)\n",
    "    index.train(build_data)\n",
    "    index.add(build_data)\n",
    "    return index\n",
    "\n",
    "\n",
    "def build_faiss_cosine(build_data, **fixed_params):\n",
    "    dim = build_data.shape[1]\n",
    "    faiss.normalize_L2(build_data.astype(np.float32))\n",
    "    index = faiss.IndexFlatIP(dim)\n",
    "    index.train(build_data)\n",
    "    index.add(build_data)\n",
    "    return index\n",
    "\n",
    "\n",
    "def search_flat(index, query_data, k):\n",
    "    distances, labels = index.search(x=query_data, k=k)\n",
    "    return distances, labels\n",
    "\n",
    "def search_faiss_cosine(index, query_data, k, nprobe=1):\n",
    "    faiss.normalize_L2(query_data.astype(np.float32))\n",
    "    index.nprobe = nprobe\n",
    "    distances, labels = index.search(query_data, k)\n",
    "    return distances, labels\n",
    "\n",
    "def search_faiss(index, query_data, k, nprobe=1):\n",
    "    index.nprobe = nprobe\n",
    "    distances, labels = index.search(query_data, k)\n",
    "    return distances, labels"
   ]
  },
  {
   "cell_type": "code",
   "execution_count": null,
   "id": "3b626dac",
   "metadata": {},
   "outputs": [],
   "source": []
  }
 ],
 "metadata": {
  "kernelspec": {
   "display_name": "Python 3",
   "language": "python",
   "name": "python3"
  },
  "language_info": {
   "codemirror_mode": {
    "name": "ipython",
    "version": 3
   },
   "file_extension": ".py",
   "mimetype": "text/x-python",
   "name": "python",
   "nbconvert_exporter": "python",
   "pygments_lexer": "ipython3",
   "version": "3.7.5"
  }
 },
 "nbformat": 4,
 "nbformat_minor": 5
}
