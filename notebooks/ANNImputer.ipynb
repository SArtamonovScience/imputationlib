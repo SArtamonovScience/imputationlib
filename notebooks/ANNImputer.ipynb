{
 "cells": [
  {
   "cell_type": "markdown",
   "id": "d1c0d639",
   "metadata": {},
   "source": [
    "## ANN Imputer"
   ]
  },
  {
   "cell_type": "code",
   "execution_count": 55,
   "id": "e9efba0a",
   "metadata": {},
   "outputs": [],
   "source": [
    "import numpy as np\n",
    "import pandas as pd\n",
    "import hnswlib\n",
    "import faiss\n",
    "\n",
    "from sklearn.neighbors import NearestNeighbors\n",
    "from sklearn.datasets import load_iris\n",
    "\n",
    "from sklearn.preprocessing import StandardScaler\n",
    "\n",
    "#from os import EX_OSFILE"
   ]
  },
  {
   "cell_type": "markdown",
   "id": "b4aa1f08",
   "metadata": {},
   "source": [
    "### Подготовка датасета"
   ]
  },
  {
   "cell_type": "code",
   "execution_count": 3,
   "id": "5d74e7c4",
   "metadata": {},
   "outputs": [],
   "source": [
    "iris = load_iris()\n",
    "iris_data = iris.data\n",
    "iris_feature_names = iris.feature_names\n",
    "df_iris = pd.DataFrame(iris_data, columns=iris_feature_names)"
   ]
  },
  {
   "cell_type": "code",
   "execution_count": 4,
   "id": "1079a0ea",
   "metadata": {},
   "outputs": [
    {
     "data": {
      "text/html": [
       "<div>\n",
       "<style scoped>\n",
       "    .dataframe tbody tr th:only-of-type {\n",
       "        vertical-align: middle;\n",
       "    }\n",
       "\n",
       "    .dataframe tbody tr th {\n",
       "        vertical-align: top;\n",
       "    }\n",
       "\n",
       "    .dataframe thead th {\n",
       "        text-align: right;\n",
       "    }\n",
       "</style>\n",
       "<table border=\"1\" class=\"dataframe\">\n",
       "  <thead>\n",
       "    <tr style=\"text-align: right;\">\n",
       "      <th></th>\n",
       "      <th>sepal length (cm)</th>\n",
       "      <th>sepal width (cm)</th>\n",
       "      <th>petal length (cm)</th>\n",
       "      <th>petal width (cm)</th>\n",
       "    </tr>\n",
       "  </thead>\n",
       "  <tbody>\n",
       "    <tr>\n",
       "      <th>0</th>\n",
       "      <td>5.1</td>\n",
       "      <td>3.5</td>\n",
       "      <td>1.4</td>\n",
       "      <td>0.2</td>\n",
       "    </tr>\n",
       "    <tr>\n",
       "      <th>1</th>\n",
       "      <td>4.9</td>\n",
       "      <td>3.0</td>\n",
       "      <td>1.4</td>\n",
       "      <td>0.2</td>\n",
       "    </tr>\n",
       "    <tr>\n",
       "      <th>2</th>\n",
       "      <td>4.7</td>\n",
       "      <td>3.2</td>\n",
       "      <td>1.3</td>\n",
       "      <td>0.2</td>\n",
       "    </tr>\n",
       "    <tr>\n",
       "      <th>3</th>\n",
       "      <td>4.6</td>\n",
       "      <td>3.1</td>\n",
       "      <td>1.5</td>\n",
       "      <td>0.2</td>\n",
       "    </tr>\n",
       "    <tr>\n",
       "      <th>4</th>\n",
       "      <td>5.0</td>\n",
       "      <td>3.6</td>\n",
       "      <td>1.4</td>\n",
       "      <td>0.2</td>\n",
       "    </tr>\n",
       "    <tr>\n",
       "      <th>...</th>\n",
       "      <td>...</td>\n",
       "      <td>...</td>\n",
       "      <td>...</td>\n",
       "      <td>...</td>\n",
       "    </tr>\n",
       "    <tr>\n",
       "      <th>145</th>\n",
       "      <td>6.7</td>\n",
       "      <td>3.0</td>\n",
       "      <td>5.2</td>\n",
       "      <td>2.3</td>\n",
       "    </tr>\n",
       "    <tr>\n",
       "      <th>146</th>\n",
       "      <td>6.3</td>\n",
       "      <td>2.5</td>\n",
       "      <td>5.0</td>\n",
       "      <td>1.9</td>\n",
       "    </tr>\n",
       "    <tr>\n",
       "      <th>147</th>\n",
       "      <td>6.5</td>\n",
       "      <td>3.0</td>\n",
       "      <td>5.2</td>\n",
       "      <td>2.0</td>\n",
       "    </tr>\n",
       "    <tr>\n",
       "      <th>148</th>\n",
       "      <td>6.2</td>\n",
       "      <td>3.4</td>\n",
       "      <td>5.4</td>\n",
       "      <td>2.3</td>\n",
       "    </tr>\n",
       "    <tr>\n",
       "      <th>149</th>\n",
       "      <td>5.9</td>\n",
       "      <td>3.0</td>\n",
       "      <td>5.1</td>\n",
       "      <td>1.8</td>\n",
       "    </tr>\n",
       "  </tbody>\n",
       "</table>\n",
       "<p>150 rows × 4 columns</p>\n",
       "</div>"
      ],
      "text/plain": [
       "     sepal length (cm)  sepal width (cm)  petal length (cm)  petal width (cm)\n",
       "0                  5.1               3.5                1.4               0.2\n",
       "1                  4.9               3.0                1.4               0.2\n",
       "2                  4.7               3.2                1.3               0.2\n",
       "3                  4.6               3.1                1.5               0.2\n",
       "4                  5.0               3.6                1.4               0.2\n",
       "..                 ...               ...                ...               ...\n",
       "145                6.7               3.0                5.2               2.3\n",
       "146                6.3               2.5                5.0               1.9\n",
       "147                6.5               3.0                5.2               2.0\n",
       "148                6.2               3.4                5.4               2.3\n",
       "149                5.9               3.0                5.1               1.8\n",
       "\n",
       "[150 rows x 4 columns]"
      ]
     },
     "execution_count": 4,
     "metadata": {},
     "output_type": "execute_result"
    }
   ],
   "source": [
    "df_iris"
   ]
  },
  {
   "cell_type": "markdown",
   "id": "6bd1fc7b",
   "metadata": {},
   "source": [
    "5% значений будут заменены на NaN"
   ]
  },
  {
   "cell_type": "code",
   "execution_count": 5,
   "id": "8c903f1f",
   "metadata": {},
   "outputs": [],
   "source": [
    "nan_percent = 0.05"
   ]
  },
  {
   "cell_type": "markdown",
   "id": "fb1233ae",
   "metadata": {},
   "source": [
    "Всего элементов в датасете и сколько хотим заменить:"
   ]
  },
  {
   "cell_type": "code",
   "execution_count": 6,
   "id": "874c90b5",
   "metadata": {},
   "outputs": [
    {
     "name": "stdout",
     "output_type": "stream",
     "text": [
      "600\n",
      "30\n"
     ]
    }
   ],
   "source": [
    "total_values = np.prod(df_iris.shape)\n",
    "nan_count = int(total_values * nan_percent)\n",
    "\n",
    "print(total_values)\n",
    "print(nan_count)"
   ]
  },
  {
   "cell_type": "markdown",
   "id": "3808bc58",
   "metadata": {},
   "source": [
    "Случайные индексы для пропусков"
   ]
  },
  {
   "cell_type": "code",
   "execution_count": 7,
   "id": "e4c0f4a8",
   "metadata": {},
   "outputs": [],
   "source": [
    "rand_row_idx = np.random.randint(0, df_iris.shape[0], size=nan_count)\n",
    "rand_col_idx = np.random.randint(0, df_iris.shape[1], size=nan_count)"
   ]
  },
  {
   "cell_type": "markdown",
   "id": "8eb86691",
   "metadata": {},
   "source": [
    "Вставляем np.nan в случайно выбранные позиции"
   ]
  },
  {
   "cell_type": "code",
   "execution_count": 8,
   "id": "f14dc81c",
   "metadata": {},
   "outputs": [],
   "source": [
    "for row, col in zip(rand_row_idx, rand_col_idx):\n",
    "    df_iris.iat[row, col] = np.nan"
   ]
  },
  {
   "cell_type": "code",
   "execution_count": 9,
   "id": "ca6b3663",
   "metadata": {},
   "outputs": [
    {
     "name": "stdout",
     "output_type": "stream",
     "text": [
      "sepal length (cm)     4\n",
      "sepal width (cm)      5\n",
      "petal length (cm)     9\n",
      "petal width (cm)     12\n",
      "dtype: int64\n"
     ]
    }
   ],
   "source": [
    "print(df_iris.isna().sum())"
   ]
  },
  {
   "cell_type": "markdown",
   "id": "b494a133",
   "metadata": {},
   "source": [
    "### HNSW Imputer"
   ]
  },
  {
   "cell_type": "code",
   "execution_count": 10,
   "id": "1acdc604",
   "metadata": {},
   "outputs": [],
   "source": [
    "def build_hnsw(build_data, space='l2', M=32, ef_construction=32, ef = 32):\n",
    "    space = space\n",
    "    M = M\n",
    "    dim = build_data.shape[-1]\n",
    "    ef_construction = ef\n",
    "    index = hnswlib.Index(space=space, dim=dim)\n",
    "    index.init_index(max_elements=build_data.shape[0], ef_construction=ef_construction, M=M)\n",
    "    index.add_items(np.float32(build_data), np.arange(build_data.shape[0]))\n",
    "    return index\n",
    "\n",
    "def search_hnsw(index, query_data, k, efSearch=10):\n",
    "    index.set_ef(efSearch)\n",
    "    labels, distances = index.knn_query(np.float32(query_data), k=k)\n",
    "    return distances, labels\n",
    "\n",
    "class HNSWSearcher(object):\n",
    "    def __init__(self, space='l2', M=32, ef_construction=32, ef = 32):\n",
    "        self.index = None\n",
    "        self.dim = None\n",
    "        self.space = space\n",
    "        self.M = M\n",
    "        self.ef_construction = ef_construction\n",
    "        self.ef = ef\n",
    "\n",
    "    def fit(self, X):\n",
    "        self.index = build_hnsw(X, space=self.space, M=self.M, ef_construction=self.ef_construction, ef = self.ef)\n",
    "        return self\n",
    "\n",
    "    def kneighbors(self, X, k, efSearch=10):\n",
    "        if self.index is None:\n",
    "            raise ValueError(\"Unfitted\")\n",
    "        \n",
    "        distances, labels = search_hnsw(self.index, X, k, efSearch)\n",
    "        return distances, labels"
   ]
  },
  {
   "cell_type": "code",
   "execution_count": 11,
   "id": "65072ff7",
   "metadata": {},
   "outputs": [],
   "source": [
    "class HNSWImputer:\n",
    "    def __init__(self, n_neighbors=5):\n",
    "        self.n_neighbors = n_neighbors\n",
    "\n",
    "    def fit(self, X):\n",
    "        self.nn_model_ = HNSWSearcher()\n",
    "        self.nn_model_.fit(X)\n",
    "\n",
    "    def impute(self, X):\n",
    "        missing_mask = np.isnan(X)\n",
    "        if not np.any(missing_mask):\n",
    "            return X\n",
    "\n",
    "        # Find indices of missing values\n",
    "        missing_indices = np.where(missing_mask)\n",
    "\n",
    "        # Replace missing values with 0 for the purpose of finding nearest neighbors\n",
    "        X_zeroed = X.fillna(0)\n",
    "\n",
    "        # Find nearest neighbors for each missing value\n",
    "        distances, indices = self.nn_model_.kneighbors(X_zeroed, k = self.n_neighbors)\n",
    "\n",
    "        # Impute missing values with mean of nearest neighbors\n",
    "        ## Тут проблема в том, что X имеет 150 строчек и 4 столбца. Здесь некорректно применять данный метод\n",
    "        # imputed_values = np.mean(np.take_along_axis(X, indices, axis=0), axis=1)\n",
    "        \n",
    "        for row, col in zip(missing_indices[0], missing_indices[1]):\n",
    "            mean_value = X_zeroed.iloc[indices[row], col].mean()\n",
    "            X_zeroed.at[row, X_zeroed.columns[col]] = mean_value\n",
    "\n",
    "        return X_zeroed"
   ]
  },
  {
   "cell_type": "markdown",
   "id": "2c5acc6b",
   "metadata": {},
   "source": [
    "### Обучение HNSWImputer и получение ближайших соседей"
   ]
  },
  {
   "cell_type": "code",
   "execution_count": 56,
   "id": "1f870b84",
   "metadata": {},
   "outputs": [],
   "source": [
    "hnsw_imputer = HNSWImputer(n_neighbors=10)"
   ]
  },
  {
   "cell_type": "code",
   "execution_count": 58,
   "id": "ad51c8fe",
   "metadata": {},
   "outputs": [],
   "source": [
    "hnsw_imputer.fit(StandardScaler().fit_transform(df_iris))"
   ]
  },
  {
   "cell_type": "code",
   "execution_count": 59,
   "id": "104de572",
   "metadata": {},
   "outputs": [
    {
     "data": {
      "text/html": [
       "<div>\n",
       "<style scoped>\n",
       "    .dataframe tbody tr th:only-of-type {\n",
       "        vertical-align: middle;\n",
       "    }\n",
       "\n",
       "    .dataframe tbody tr th {\n",
       "        vertical-align: top;\n",
       "    }\n",
       "\n",
       "    .dataframe thead th {\n",
       "        text-align: right;\n",
       "    }\n",
       "</style>\n",
       "<table border=\"1\" class=\"dataframe\">\n",
       "  <thead>\n",
       "    <tr style=\"text-align: right;\">\n",
       "      <th></th>\n",
       "      <th>sepal length (cm)</th>\n",
       "      <th>sepal width (cm)</th>\n",
       "      <th>petal length (cm)</th>\n",
       "      <th>petal width (cm)</th>\n",
       "    </tr>\n",
       "  </thead>\n",
       "  <tbody>\n",
       "    <tr>\n",
       "      <th>0</th>\n",
       "      <td>5.1</td>\n",
       "      <td>3.5</td>\n",
       "      <td>1.400</td>\n",
       "      <td>0.2</td>\n",
       "    </tr>\n",
       "    <tr>\n",
       "      <th>1</th>\n",
       "      <td>4.9</td>\n",
       "      <td>3.0</td>\n",
       "      <td>2.160</td>\n",
       "      <td>0.2</td>\n",
       "    </tr>\n",
       "    <tr>\n",
       "      <th>2</th>\n",
       "      <td>4.7</td>\n",
       "      <td>3.2</td>\n",
       "      <td>1.300</td>\n",
       "      <td>0.2</td>\n",
       "    </tr>\n",
       "    <tr>\n",
       "      <th>3</th>\n",
       "      <td>4.6</td>\n",
       "      <td>3.1</td>\n",
       "      <td>1.500</td>\n",
       "      <td>0.2</td>\n",
       "    </tr>\n",
       "    <tr>\n",
       "      <th>4</th>\n",
       "      <td>5.0</td>\n",
       "      <td>3.6</td>\n",
       "      <td>1.400</td>\n",
       "      <td>0.2</td>\n",
       "    </tr>\n",
       "    <tr>\n",
       "      <th>...</th>\n",
       "      <td>...</td>\n",
       "      <td>...</td>\n",
       "      <td>...</td>\n",
       "      <td>...</td>\n",
       "    </tr>\n",
       "    <tr>\n",
       "      <th>145</th>\n",
       "      <td>6.7</td>\n",
       "      <td>3.0</td>\n",
       "      <td>2.336</td>\n",
       "      <td>2.3</td>\n",
       "    </tr>\n",
       "    <tr>\n",
       "      <th>146</th>\n",
       "      <td>6.3</td>\n",
       "      <td>2.5</td>\n",
       "      <td>5.000</td>\n",
       "      <td>1.9</td>\n",
       "    </tr>\n",
       "    <tr>\n",
       "      <th>147</th>\n",
       "      <td>6.5</td>\n",
       "      <td>3.0</td>\n",
       "      <td>5.200</td>\n",
       "      <td>2.0</td>\n",
       "    </tr>\n",
       "    <tr>\n",
       "      <th>148</th>\n",
       "      <td>6.2</td>\n",
       "      <td>3.4</td>\n",
       "      <td>5.400</td>\n",
       "      <td>2.3</td>\n",
       "    </tr>\n",
       "    <tr>\n",
       "      <th>149</th>\n",
       "      <td>5.9</td>\n",
       "      <td>3.0</td>\n",
       "      <td>5.100</td>\n",
       "      <td>1.8</td>\n",
       "    </tr>\n",
       "  </tbody>\n",
       "</table>\n",
       "<p>150 rows × 4 columns</p>\n",
       "</div>"
      ],
      "text/plain": [
       "     sepal length (cm)  sepal width (cm)  petal length (cm)  petal width (cm)\n",
       "0                  5.1               3.5              1.400               0.2\n",
       "1                  4.9               3.0              2.160               0.2\n",
       "2                  4.7               3.2              1.300               0.2\n",
       "3                  4.6               3.1              1.500               0.2\n",
       "4                  5.0               3.6              1.400               0.2\n",
       "..                 ...               ...                ...               ...\n",
       "145                6.7               3.0              2.336               2.3\n",
       "146                6.3               2.5              5.000               1.9\n",
       "147                6.5               3.0              5.200               2.0\n",
       "148                6.2               3.4              5.400               2.3\n",
       "149                5.9               3.0              5.100               1.8\n",
       "\n",
       "[150 rows x 4 columns]"
      ]
     },
     "execution_count": 59,
     "metadata": {},
     "output_type": "execute_result"
    }
   ],
   "source": [
    "hnsw_imputer.impute(df_iris)"
   ]
  },
  {
   "cell_type": "code",
   "execution_count": 62,
   "id": "7f0c89d4-c8d8-4896-bcac-120105a4a9a7",
   "metadata": {},
   "outputs": [
    {
     "ename": "AttributeError",
     "evalue": "'Series' object has no attribute 'reshape'",
     "output_type": "error",
     "traceback": [
      "\u001b[1;31m---------------------------------------------------------------------------\u001b[0m",
      "\u001b[1;31mAttributeError\u001b[0m                            Traceback (most recent call last)",
      "Cell \u001b[1;32mIn[62], line 1\u001b[0m\n\u001b[1;32m----> 1\u001b[0m imputed \u001b[38;5;241m=\u001b[39m hnsw_imputer\u001b[38;5;241m.\u001b[39mimpute(\u001b[43mdf_iris\u001b[49m\u001b[38;5;241;43m.\u001b[39;49m\u001b[43mapply\u001b[49m\u001b[43m(\u001b[49m\u001b[38;5;28;43;01mlambda\u001b[39;49;00m\u001b[43m \u001b[49m\u001b[43mx\u001b[49m\u001b[43m:\u001b[49m\u001b[43m \u001b[49m\u001b[43mStandardScaler\u001b[49m\u001b[43m(\u001b[49m\u001b[43m)\u001b[49m\u001b[38;5;241;43m.\u001b[39;49m\u001b[43mfit_transform\u001b[49m\u001b[43m(\u001b[49m\u001b[43mx\u001b[49m\u001b[38;5;241;43m.\u001b[39;49m\u001b[43mreshape\u001b[49m\u001b[43m(\u001b[49m\u001b[38;5;241;43m-\u001b[39;49m\u001b[38;5;241;43m1\u001b[39;49m\u001b[43m,\u001b[49m\u001b[43m \u001b[49m\u001b[38;5;241;43m1\u001b[39;49m\u001b[43m)\u001b[49m\u001b[43m)\u001b[49m\u001b[43m)\u001b[49m)\n",
      "File \u001b[1;32m~\\anaconda3\\envs\\plasticity\\lib\\site-packages\\pandas\\core\\frame.py:9423\u001b[0m, in \u001b[0;36mDataFrame.apply\u001b[1;34m(self, func, axis, raw, result_type, args, **kwargs)\u001b[0m\n\u001b[0;32m   9412\u001b[0m \u001b[38;5;28;01mfrom\u001b[39;00m \u001b[38;5;21;01mpandas\u001b[39;00m\u001b[38;5;21;01m.\u001b[39;00m\u001b[38;5;21;01mcore\u001b[39;00m\u001b[38;5;21;01m.\u001b[39;00m\u001b[38;5;21;01mapply\u001b[39;00m \u001b[38;5;28;01mimport\u001b[39;00m frame_apply\n\u001b[0;32m   9414\u001b[0m op \u001b[38;5;241m=\u001b[39m frame_apply(\n\u001b[0;32m   9415\u001b[0m     \u001b[38;5;28mself\u001b[39m,\n\u001b[0;32m   9416\u001b[0m     func\u001b[38;5;241m=\u001b[39mfunc,\n\u001b[1;32m   (...)\u001b[0m\n\u001b[0;32m   9421\u001b[0m     kwargs\u001b[38;5;241m=\u001b[39mkwargs,\n\u001b[0;32m   9422\u001b[0m )\n\u001b[1;32m-> 9423\u001b[0m \u001b[38;5;28;01mreturn\u001b[39;00m \u001b[43mop\u001b[49m\u001b[38;5;241;43m.\u001b[39;49m\u001b[43mapply\u001b[49m\u001b[43m(\u001b[49m\u001b[43m)\u001b[49m\u001b[38;5;241m.\u001b[39m__finalize__(\u001b[38;5;28mself\u001b[39m, method\u001b[38;5;241m=\u001b[39m\u001b[38;5;124m\"\u001b[39m\u001b[38;5;124mapply\u001b[39m\u001b[38;5;124m\"\u001b[39m)\n",
      "File \u001b[1;32m~\\anaconda3\\envs\\plasticity\\lib\\site-packages\\pandas\\core\\apply.py:678\u001b[0m, in \u001b[0;36mFrameApply.apply\u001b[1;34m(self)\u001b[0m\n\u001b[0;32m    675\u001b[0m \u001b[38;5;28;01melif\u001b[39;00m \u001b[38;5;28mself\u001b[39m\u001b[38;5;241m.\u001b[39mraw:\n\u001b[0;32m    676\u001b[0m     \u001b[38;5;28;01mreturn\u001b[39;00m \u001b[38;5;28mself\u001b[39m\u001b[38;5;241m.\u001b[39mapply_raw()\n\u001b[1;32m--> 678\u001b[0m \u001b[38;5;28;01mreturn\u001b[39;00m \u001b[38;5;28;43mself\u001b[39;49m\u001b[38;5;241;43m.\u001b[39;49m\u001b[43mapply_standard\u001b[49m\u001b[43m(\u001b[49m\u001b[43m)\u001b[49m\n",
      "File \u001b[1;32m~\\anaconda3\\envs\\plasticity\\lib\\site-packages\\pandas\\core\\apply.py:798\u001b[0m, in \u001b[0;36mFrameApply.apply_standard\u001b[1;34m(self)\u001b[0m\n\u001b[0;32m    797\u001b[0m \u001b[38;5;28;01mdef\u001b[39;00m \u001b[38;5;21mapply_standard\u001b[39m(\u001b[38;5;28mself\u001b[39m):\n\u001b[1;32m--> 798\u001b[0m     results, res_index \u001b[38;5;241m=\u001b[39m \u001b[38;5;28;43mself\u001b[39;49m\u001b[38;5;241;43m.\u001b[39;49m\u001b[43mapply_series_generator\u001b[49m\u001b[43m(\u001b[49m\u001b[43m)\u001b[49m\n\u001b[0;32m    800\u001b[0m     \u001b[38;5;66;03m# wrap results\u001b[39;00m\n\u001b[0;32m    801\u001b[0m     \u001b[38;5;28;01mreturn\u001b[39;00m \u001b[38;5;28mself\u001b[39m\u001b[38;5;241m.\u001b[39mwrap_results(results, res_index)\n",
      "File \u001b[1;32m~\\anaconda3\\envs\\plasticity\\lib\\site-packages\\pandas\\core\\apply.py:814\u001b[0m, in \u001b[0;36mFrameApply.apply_series_generator\u001b[1;34m(self)\u001b[0m\n\u001b[0;32m    811\u001b[0m \u001b[38;5;28;01mwith\u001b[39;00m option_context(\u001b[38;5;124m\"\u001b[39m\u001b[38;5;124mmode.chained_assignment\u001b[39m\u001b[38;5;124m\"\u001b[39m, \u001b[38;5;28;01mNone\u001b[39;00m):\n\u001b[0;32m    812\u001b[0m     \u001b[38;5;28;01mfor\u001b[39;00m i, v \u001b[38;5;129;01min\u001b[39;00m \u001b[38;5;28menumerate\u001b[39m(series_gen):\n\u001b[0;32m    813\u001b[0m         \u001b[38;5;66;03m# ignore SettingWithCopy here in case the user mutates\u001b[39;00m\n\u001b[1;32m--> 814\u001b[0m         results[i] \u001b[38;5;241m=\u001b[39m \u001b[38;5;28;43mself\u001b[39;49m\u001b[38;5;241;43m.\u001b[39;49m\u001b[43mf\u001b[49m\u001b[43m(\u001b[49m\u001b[43mv\u001b[49m\u001b[43m)\u001b[49m\n\u001b[0;32m    815\u001b[0m         \u001b[38;5;28;01mif\u001b[39;00m \u001b[38;5;28misinstance\u001b[39m(results[i], ABCSeries):\n\u001b[0;32m    816\u001b[0m             \u001b[38;5;66;03m# If we have a view on v, we need to make a copy because\u001b[39;00m\n\u001b[0;32m    817\u001b[0m             \u001b[38;5;66;03m#  series_generator will swap out the underlying data\u001b[39;00m\n\u001b[0;32m    818\u001b[0m             results[i] \u001b[38;5;241m=\u001b[39m results[i]\u001b[38;5;241m.\u001b[39mcopy(deep\u001b[38;5;241m=\u001b[39m\u001b[38;5;28;01mFalse\u001b[39;00m)\n",
      "Cell \u001b[1;32mIn[62], line 1\u001b[0m, in \u001b[0;36m<lambda>\u001b[1;34m(x)\u001b[0m\n\u001b[1;32m----> 1\u001b[0m imputed \u001b[38;5;241m=\u001b[39m hnsw_imputer\u001b[38;5;241m.\u001b[39mimpute(df_iris\u001b[38;5;241m.\u001b[39mapply(\u001b[38;5;28;01mlambda\u001b[39;00m x: StandardScaler()\u001b[38;5;241m.\u001b[39mfit_transform(\u001b[43mx\u001b[49m\u001b[38;5;241;43m.\u001b[39;49m\u001b[43mreshape\u001b[49m(\u001b[38;5;241m-\u001b[39m\u001b[38;5;241m1\u001b[39m, \u001b[38;5;241m1\u001b[39m))))\n",
      "File \u001b[1;32m~\\anaconda3\\envs\\plasticity\\lib\\site-packages\\pandas\\core\\generic.py:5989\u001b[0m, in \u001b[0;36mNDFrame.__getattr__\u001b[1;34m(self, name)\u001b[0m\n\u001b[0;32m   5982\u001b[0m \u001b[38;5;28;01mif\u001b[39;00m (\n\u001b[0;32m   5983\u001b[0m     name \u001b[38;5;129;01mnot\u001b[39;00m \u001b[38;5;129;01min\u001b[39;00m \u001b[38;5;28mself\u001b[39m\u001b[38;5;241m.\u001b[39m_internal_names_set\n\u001b[0;32m   5984\u001b[0m     \u001b[38;5;129;01mand\u001b[39;00m name \u001b[38;5;129;01mnot\u001b[39;00m \u001b[38;5;129;01min\u001b[39;00m \u001b[38;5;28mself\u001b[39m\u001b[38;5;241m.\u001b[39m_metadata\n\u001b[0;32m   5985\u001b[0m     \u001b[38;5;129;01mand\u001b[39;00m name \u001b[38;5;129;01mnot\u001b[39;00m \u001b[38;5;129;01min\u001b[39;00m \u001b[38;5;28mself\u001b[39m\u001b[38;5;241m.\u001b[39m_accessors\n\u001b[0;32m   5986\u001b[0m     \u001b[38;5;129;01mand\u001b[39;00m \u001b[38;5;28mself\u001b[39m\u001b[38;5;241m.\u001b[39m_info_axis\u001b[38;5;241m.\u001b[39m_can_hold_identifiers_and_holds_name(name)\n\u001b[0;32m   5987\u001b[0m ):\n\u001b[0;32m   5988\u001b[0m     \u001b[38;5;28;01mreturn\u001b[39;00m \u001b[38;5;28mself\u001b[39m[name]\n\u001b[1;32m-> 5989\u001b[0m \u001b[38;5;28;01mreturn\u001b[39;00m \u001b[38;5;28;43mobject\u001b[39;49m\u001b[38;5;241;43m.\u001b[39;49m\u001b[38;5;21;43m__getattribute__\u001b[39;49m\u001b[43m(\u001b[49m\u001b[38;5;28;43mself\u001b[39;49m\u001b[43m,\u001b[49m\u001b[43m \u001b[49m\u001b[43mname\u001b[49m\u001b[43m)\u001b[49m\n",
      "\u001b[1;31mAttributeError\u001b[0m: 'Series' object has no attribute 'reshape'"
     ]
    }
   ],
   "source": [
    "imputed = hnsw_imputer.impute(df_iris.apply(lambda x: StandardScaler().fit_transform(x.reshape(, 1))))"
   ]
  },
  {
   "cell_type": "markdown",
   "id": "f23ae5a9-c993-423d-98a4-84b4236f270c",
   "metadata": {},
   "source": [
    "## Check metric"
   ]
  },
  {
   "cell_type": "code",
   "execution_count": 48,
   "id": "54994281-3329-40ce-b015-a3b6c52669b2",
   "metadata": {},
   "outputs": [],
   "source": [
    "from sklearn.metrics import r2_score"
   ]
  },
  {
   "cell_type": "code",
   "execution_count": 49,
   "id": "d2464bf1-a2c1-4b99-a414-bf2996e3479f",
   "metadata": {},
   "outputs": [],
   "source": [
    "df_iris_orig = pd.DataFrame(iris_data, columns=iris_feature_names)"
   ]
  },
  {
   "cell_type": "code",
   "execution_count": 50,
   "id": "958dc5aa-9bd9-414f-a071-dd1c10f1cc8b",
   "metadata": {},
   "outputs": [],
   "source": [
    "def check(df_orig, df_nan, df_filled, col):\n",
    "    imputed_ = df_filled[df_nan[col].isna()][col]\n",
    "    orig = df_orig[df_nan[col].isna()][col]\n",
    "    return pd.DataFrame({'imputed': imputed_, 'original':orig})"
   ]
  },
  {
   "cell_type": "code",
   "execution_count": 51,
   "id": "cca94e23-2b04-462a-8f01-d5ac42ad9ddc",
   "metadata": {},
   "outputs": [
    {
     "data": {
      "text/html": [
       "<div>\n",
       "<style scoped>\n",
       "    .dataframe tbody tr th:only-of-type {\n",
       "        vertical-align: middle;\n",
       "    }\n",
       "\n",
       "    .dataframe tbody tr th {\n",
       "        vertical-align: top;\n",
       "    }\n",
       "\n",
       "    .dataframe thead th {\n",
       "        text-align: right;\n",
       "    }\n",
       "</style>\n",
       "<table border=\"1\" class=\"dataframe\">\n",
       "  <thead>\n",
       "    <tr style=\"text-align: right;\">\n",
       "      <th></th>\n",
       "      <th>imputed</th>\n",
       "      <th>original</th>\n",
       "    </tr>\n",
       "  </thead>\n",
       "  <tbody>\n",
       "    <tr>\n",
       "      <th>9</th>\n",
       "      <td>2.7300</td>\n",
       "      <td>3.1</td>\n",
       "    </tr>\n",
       "    <tr>\n",
       "      <th>15</th>\n",
       "      <td>3.0030</td>\n",
       "      <td>4.4</td>\n",
       "    </tr>\n",
       "    <tr>\n",
       "      <th>35</th>\n",
       "      <td>3.0030</td>\n",
       "      <td>3.2</td>\n",
       "    </tr>\n",
       "    <tr>\n",
       "      <th>105</th>\n",
       "      <td>3.0236</td>\n",
       "      <td>3.0</td>\n",
       "    </tr>\n",
       "    <tr>\n",
       "      <th>120</th>\n",
       "      <td>3.0433</td>\n",
       "      <td>3.2</td>\n",
       "    </tr>\n",
       "  </tbody>\n",
       "</table>\n",
       "</div>"
      ],
      "text/plain": [
       "     imputed  original\n",
       "9     2.7300       3.1\n",
       "15    3.0030       4.4\n",
       "35    3.0030       3.2\n",
       "105   3.0236       3.0\n",
       "120   3.0433       3.2"
      ]
     },
     "execution_count": 51,
     "metadata": {},
     "output_type": "execute_result"
    }
   ],
   "source": [
    "check(df_iris_orig, df_iris, imputed, 'sepal width (cm)')"
   ]
  },
  {
   "cell_type": "code",
   "execution_count": 52,
   "id": "0c1691c4-f1c0-43c4-bf23-7e5eff842e96",
   "metadata": {},
   "outputs": [
    {
     "data": {
      "text/html": [
       "<div>\n",
       "<style scoped>\n",
       "    .dataframe tbody tr th:only-of-type {\n",
       "        vertical-align: middle;\n",
       "    }\n",
       "\n",
       "    .dataframe tbody tr th {\n",
       "        vertical-align: top;\n",
       "    }\n",
       "\n",
       "    .dataframe thead th {\n",
       "        text-align: right;\n",
       "    }\n",
       "</style>\n",
       "<table border=\"1\" class=\"dataframe\">\n",
       "  <thead>\n",
       "    <tr style=\"text-align: right;\">\n",
       "      <th></th>\n",
       "      <th>imputed</th>\n",
       "      <th>original</th>\n",
       "    </tr>\n",
       "  </thead>\n",
       "  <tbody>\n",
       "    <tr>\n",
       "      <th>1</th>\n",
       "      <td>1.320</td>\n",
       "      <td>1.4</td>\n",
       "    </tr>\n",
       "    <tr>\n",
       "      <th>46</th>\n",
       "      <td>1.402</td>\n",
       "      <td>1.6</td>\n",
       "    </tr>\n",
       "    <tr>\n",
       "      <th>57</th>\n",
       "      <td>1.370</td>\n",
       "      <td>3.3</td>\n",
       "    </tr>\n",
       "    <tr>\n",
       "      <th>60</th>\n",
       "      <td>1.370</td>\n",
       "      <td>3.5</td>\n",
       "    </tr>\n",
       "    <tr>\n",
       "      <th>94</th>\n",
       "      <td>1.360</td>\n",
       "      <td>4.2</td>\n",
       "    </tr>\n",
       "    <tr>\n",
       "      <th>112</th>\n",
       "      <td>1.422</td>\n",
       "      <td>5.5</td>\n",
       "    </tr>\n",
       "    <tr>\n",
       "      <th>130</th>\n",
       "      <td>1.472</td>\n",
       "      <td>6.1</td>\n",
       "    </tr>\n",
       "    <tr>\n",
       "      <th>144</th>\n",
       "      <td>1.422</td>\n",
       "      <td>5.7</td>\n",
       "    </tr>\n",
       "    <tr>\n",
       "      <th>145</th>\n",
       "      <td>1.422</td>\n",
       "      <td>5.2</td>\n",
       "    </tr>\n",
       "  </tbody>\n",
       "</table>\n",
       "</div>"
      ],
      "text/plain": [
       "     imputed  original\n",
       "1      1.320       1.4\n",
       "46     1.402       1.6\n",
       "57     1.370       3.3\n",
       "60     1.370       3.5\n",
       "94     1.360       4.2\n",
       "112    1.422       5.5\n",
       "130    1.472       6.1\n",
       "144    1.422       5.7\n",
       "145    1.422       5.2"
      ]
     },
     "execution_count": 52,
     "metadata": {},
     "output_type": "execute_result"
    }
   ],
   "source": [
    "check(df_iris_orig, df_iris, imputed, 'petal length (cm)')"
   ]
  },
  {
   "cell_type": "code",
   "execution_count": 53,
   "id": "7b481400-2d2d-4f64-85b6-3a018324a8ef",
   "metadata": {},
   "outputs": [
    {
     "data": {
      "text/html": [
       "<div>\n",
       "<style scoped>\n",
       "    .dataframe tbody tr th:only-of-type {\n",
       "        vertical-align: middle;\n",
       "    }\n",
       "\n",
       "    .dataframe tbody tr th {\n",
       "        vertical-align: top;\n",
       "    }\n",
       "\n",
       "    .dataframe thead th {\n",
       "        text-align: right;\n",
       "    }\n",
       "</style>\n",
       "<table border=\"1\" class=\"dataframe\">\n",
       "  <thead>\n",
       "    <tr style=\"text-align: right;\">\n",
       "      <th></th>\n",
       "      <th>imputed</th>\n",
       "      <th>original</th>\n",
       "    </tr>\n",
       "  </thead>\n",
       "  <tbody>\n",
       "    <tr>\n",
       "      <th>51</th>\n",
       "      <td>5.19</td>\n",
       "      <td>6.4</td>\n",
       "    </tr>\n",
       "    <tr>\n",
       "      <th>65</th>\n",
       "      <td>5.19</td>\n",
       "      <td>6.7</td>\n",
       "    </tr>\n",
       "    <tr>\n",
       "      <th>113</th>\n",
       "      <td>5.19</td>\n",
       "      <td>5.7</td>\n",
       "    </tr>\n",
       "    <tr>\n",
       "      <th>122</th>\n",
       "      <td>5.17</td>\n",
       "      <td>7.7</td>\n",
       "    </tr>\n",
       "  </tbody>\n",
       "</table>\n",
       "</div>"
      ],
      "text/plain": [
       "     imputed  original\n",
       "51      5.19       6.4\n",
       "65      5.19       6.7\n",
       "113     5.19       5.7\n",
       "122     5.17       7.7"
      ]
     },
     "execution_count": 53,
     "metadata": {},
     "output_type": "execute_result"
    }
   ],
   "source": [
    "check(df_iris_orig, df_iris, imputed, 'sepal length (cm)')"
   ]
  },
  {
   "cell_type": "code",
   "execution_count": 54,
   "id": "5a83bca7-317b-464e-abe6-194bd8f56752",
   "metadata": {},
   "outputs": [
    {
     "data": {
      "text/html": [
       "<div>\n",
       "<style scoped>\n",
       "    .dataframe tbody tr th:only-of-type {\n",
       "        vertical-align: middle;\n",
       "    }\n",
       "\n",
       "    .dataframe tbody tr th {\n",
       "        vertical-align: top;\n",
       "    }\n",
       "\n",
       "    .dataframe thead th {\n",
       "        text-align: right;\n",
       "    }\n",
       "</style>\n",
       "<table border=\"1\" class=\"dataframe\">\n",
       "  <thead>\n",
       "    <tr style=\"text-align: right;\">\n",
       "      <th></th>\n",
       "      <th>imputed</th>\n",
       "      <th>original</th>\n",
       "    </tr>\n",
       "  </thead>\n",
       "  <tbody>\n",
       "    <tr>\n",
       "      <th>17</th>\n",
       "      <td>0.15000</td>\n",
       "      <td>0.3</td>\n",
       "    </tr>\n",
       "    <tr>\n",
       "      <th>19</th>\n",
       "      <td>0.16500</td>\n",
       "      <td>0.3</td>\n",
       "    </tr>\n",
       "    <tr>\n",
       "      <th>25</th>\n",
       "      <td>0.18150</td>\n",
       "      <td>0.2</td>\n",
       "    </tr>\n",
       "    <tr>\n",
       "      <th>36</th>\n",
       "      <td>0.19965</td>\n",
       "      <td>0.2</td>\n",
       "    </tr>\n",
       "    <tr>\n",
       "      <th>73</th>\n",
       "      <td>0.55965</td>\n",
       "      <td>1.2</td>\n",
       "    </tr>\n",
       "    <tr>\n",
       "      <th>84</th>\n",
       "      <td>0.56965</td>\n",
       "      <td>1.5</td>\n",
       "    </tr>\n",
       "    <tr>\n",
       "      <th>95</th>\n",
       "      <td>0.56965</td>\n",
       "      <td>1.2</td>\n",
       "    </tr>\n",
       "    <tr>\n",
       "      <th>109</th>\n",
       "      <td>0.59965</td>\n",
       "      <td>2.5</td>\n",
       "    </tr>\n",
       "    <tr>\n",
       "      <th>111</th>\n",
       "      <td>0.56965</td>\n",
       "      <td>1.9</td>\n",
       "    </tr>\n",
       "    <tr>\n",
       "      <th>118</th>\n",
       "      <td>0.55965</td>\n",
       "      <td>2.3</td>\n",
       "    </tr>\n",
       "    <tr>\n",
       "      <th>121</th>\n",
       "      <td>0.56965</td>\n",
       "      <td>2.0</td>\n",
       "    </tr>\n",
       "    <tr>\n",
       "      <th>142</th>\n",
       "      <td>0.56965</td>\n",
       "      <td>1.9</td>\n",
       "    </tr>\n",
       "  </tbody>\n",
       "</table>\n",
       "</div>"
      ],
      "text/plain": [
       "     imputed  original\n",
       "17   0.15000       0.3\n",
       "19   0.16500       0.3\n",
       "25   0.18150       0.2\n",
       "36   0.19965       0.2\n",
       "73   0.55965       1.2\n",
       "84   0.56965       1.5\n",
       "95   0.56965       1.2\n",
       "109  0.59965       2.5\n",
       "111  0.56965       1.9\n",
       "118  0.55965       2.3\n",
       "121  0.56965       2.0\n",
       "142  0.56965       1.9"
      ]
     },
     "execution_count": 54,
     "metadata": {},
     "output_type": "execute_result"
    }
   ],
   "source": [
    "check(df_iris_orig, df_iris, imputed, 'petal width (cm)')"
   ]
  },
  {
   "cell_type": "markdown",
   "id": "93fe88be-fa6a-4761-a62d-66abde3fc5ac",
   "metadata": {},
   "source": [
    "# План:\n",
    "\n",
    "## HNSW:\n",
    "\n",
    "1. Нормировать вход\n",
    "2. Сделать так, чтобы в impute можно было подавать np.array\n",
    "3. Сравнить с KNNImputer sklearn\n",
    "\n",
    "## Faiss:\n",
    "Все то же самое\n",
    "\n",
    "## Тесты:\n",
    "\n",
    "1. Отобрать 3-10 датасетов (неслучайные, хотя бы 2 - большие (N*M > 10000))\n",
    "2. Протестить, сравнить качество (MSE, RMSE, R2, MAPE, time)\n",
    "\n",
    "## Оформление результата:\n",
    "\n",
    "1. --- Текст ---\n",
    "2. Библиотека в PIP -> я сделаю"
   ]
  },
  {
   "cell_type": "markdown",
   "id": "abdacb71-69c7-4ba5-8d89-5658c18c07e1",
   "metadata": {},
   "source": [
    "# Датасеты:\n",
    "\n",
    "1. Отдельно для маленьких, отдельно для больших\n",
    "2. OpenML (?), Kaggle(?) -> iris, fetch_california_housing, fraud_detection - банковский - поискать еще список на kaggle\n"
   ]
  },
  {
   "cell_type": "code",
   "execution_count": 63,
   "id": "91a0f75e-2ab9-412b-8888-4c7247803055",
   "metadata": {},
   "outputs": [],
   "source": [
    "from sklearn.datasets import fetch_california_housing"
   ]
  },
  {
   "cell_type": "code",
   "execution_count": 64,
   "id": "fddd8958-d426-4533-b079-96873975b33f",
   "metadata": {},
   "outputs": [
    {
     "data": {
      "text/plain": [
       "(20640, 8)"
      ]
     },
     "execution_count": 64,
     "metadata": {},
     "output_type": "execute_result"
    }
   ],
   "source": [
    "fetch_california_housing(return_X_y=True)[0].shape"
   ]
  },
  {
   "cell_type": "markdown",
   "id": "2b392ea4",
   "metadata": {},
   "source": [
    "### FAISS Imputer"
   ]
  },
  {
   "cell_type": "code",
   "execution_count": 297,
   "id": "e7106ff8",
   "metadata": {},
   "outputs": [],
   "source": [
    "def build_IVFPQ(build_data, coarse_index, nlist, m, nbits, metric, num_threads=1):\n",
    "    dim = build_data.shape[1]\n",
    "    faiss.omp_set_num_threads(num_threads)\n",
    "    \n",
    "    index = faiss.IndexIVFPQ(\n",
    "        coarse_index,\n",
    "        dim,\n",
    "        nlist,\n",
    "        m,\n",
    "        nbits,\n",
    "        metric\n",
    "    )\n",
    "    index.train(build_data)\n",
    "    index.add(build_data)\n",
    "    return index\n",
    "\n",
    "def build_IVFFlat(build_data, coarse_index, nbits, metric, num_threads=1):\n",
    "    dim = build_data.shape[1]\n",
    "    faiss.omp_set_num_threads(num_threads)\n",
    "    \n",
    "    index = faiss.IndexIVFFlat(\n",
    "        coarse_index,\n",
    "        dim,\n",
    "        nlist,\n",
    "        metric\n",
    "    )\n",
    "    index.train(build_data)\n",
    "    index.add(build_data)\n",
    "    return index\n",
    "\n",
    "def build_flat_l2(build_data , **fixed_params):\n",
    "    dim = build_data.shape[1]\n",
    "    index = faiss.IndexFlatL2(dim)\n",
    "    index.train(build_data)\n",
    "    index.add(build_data)\n",
    "    return index\n",
    "\n",
    "\n",
    "def build_faiss_cosine(build_data, **fixed_params):\n",
    "    dim = build_data.shape[1]\n",
    "    faiss.normalize_L2(build_data.astype(np.float32))\n",
    "    index = faiss.IndexFlatIP(dim)\n",
    "    index.train(build_data)\n",
    "    index.add(build_data)\n",
    "    return index\n",
    "\n",
    "\n",
    "def search_flat(index, query_data, k):\n",
    "    distances, labels = index.search(x=query_data, k=k)\n",
    "    return distances, labels\n",
    "\n",
    "def search_faiss_cosine(index, query_data, k, nprobe=1):\n",
    "    faiss.normalize_L2(query_data.astype(np.float32))\n",
    "    index.nprobe = nprobe\n",
    "    distances, labels = index.search(query_data, k)\n",
    "    return distances, labels\n",
    "\n",
    "def search_faiss(index, query_data, k, nprobe=1):\n",
    "    index.nprobe = nprobe\n",
    "    distances, labels = index.search(query_data, k)\n",
    "    return distances, labels"
   ]
  },
  {
   "cell_type": "code",
   "execution_count": null,
   "id": "3b626dac",
   "metadata": {},
   "outputs": [],
   "source": []
  }
 ],
 "metadata": {
  "kernelspec": {
   "display_name": "Python 3 (ipykernel)",
   "language": "python",
   "name": "python3"
  },
  "language_info": {
   "codemirror_mode": {
    "name": "ipython",
    "version": 3
   },
   "file_extension": ".py",
   "mimetype": "text/x-python",
   "name": "python",
   "nbconvert_exporter": "python",
   "pygments_lexer": "ipython3",
   "version": "3.8.16"
  }
 },
 "nbformat": 4,
 "nbformat_minor": 5
}
